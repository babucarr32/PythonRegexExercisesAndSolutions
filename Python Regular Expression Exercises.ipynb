{
 "cells": [
  {
   "cell_type": "code",
   "execution_count": 41,
   "id": "2cc5aaa9",
   "metadata": {},
   "outputs": [
    {
     "name": "stdout",
     "output_type": "stream",
     "text": [
      "False\n",
      "True\n"
     ]
    }
   ],
   "source": [
    "#1. Write a Python program to check that a string contains only a \n",
    "# certain set of characters (in this case a-z, A-Z and 0-9).\n",
    "import re\n",
    "\n",
    "def stringValidator(string):\n",
    "    regex = re.compile(r\"[^a-zA-Z0-9]\")\n",
    "    allString = regex.search(string)\n",
    "    \n",
    "    return not bool(allString)\n",
    "    \n",
    "print(stringValidator(\"*&%@#!}{\"))\n",
    "print(stringValidator(\"ABCDEFabcdef0123456789\"))\n",
    "    "
   ]
  },
  {
   "cell_type": "code",
   "execution_count": 42,
   "id": "0455ee51",
   "metadata": {},
   "outputs": [
    {
     "name": "stdout",
     "output_type": "stream",
     "text": [
      "Matches found.\n",
      "No matches found.\n",
      "Matches found.\n",
      "No matches found.\n",
      "Matches found.\n"
     ]
    }
   ],
   "source": [
    "# 2. Write a Python program that matches a string \n",
    "# that has an a followed by zero or more b's. \n",
    "import re \n",
    "\n",
    "def aFollowedByB(string):\n",
    "    regex = re.compile(\"^a(b*)$\")\n",
    "    bs = regex.findall(string)\n",
    "    if bs:\n",
    "        return \"Matches found.\"\n",
    "    else:\n",
    "        return \"No matches found.\"\n",
    "    \n",
    "print(aFollowedByB(\"ab\"))\n",
    "print(aFollowedByB(\"abc\"))\n",
    "print(aFollowedByB(\"abb\"))\n",
    "print(aFollowedByB(\"aba\"))\n",
    "print(aFollowedByB(\"a\"))"
   ]
  },
  {
   "cell_type": "code",
   "execution_count": 44,
   "id": "069df3ca",
   "metadata": {},
   "outputs": [
    {
     "name": "stdout",
     "output_type": "stream",
     "text": [
      "Match found\n",
      "No match found\n",
      "No match found\n",
      "No match found\n",
      "No match found\n",
      "Match found\n"
     ]
    }
   ],
   "source": [
    "# 3. Write a Python program that matches a \n",
    "# string that has an a followed by one or more b's.\n",
    "import re \n",
    "\n",
    "def aFollowedByB(string):\n",
    "    regex = re.compile(\"^a(b+)$\")\n",
    "    bs = regex.findall(string)\n",
    "    if bs:\n",
    "        return \"Match found\"\n",
    "    else:\n",
    "        return \"No match found\"\n",
    "    \n",
    "print(aFollowedByB(\"ab\"))\n",
    "print(aFollowedByB(\"abc\"))\n",
    "print(aFollowedByB(\"acb\"))\n",
    "print(aFollowedByB(\"a\"))\n",
    "print(aFollowedByB(\"a\"))\n",
    "print(aFollowedByB(\"abbb\"))"
   ]
  },
  {
   "cell_type": "code",
   "execution_count": 4,
   "id": "0225896b",
   "metadata": {},
   "outputs": [
    {
     "name": "stdout",
     "output_type": "stream",
     "text": [
      "Match found\n",
      "No match found\n",
      "No match found\n",
      "No match found\n",
      "No match found\n",
      "No match found\n"
     ]
    }
   ],
   "source": [
    "# 4. Write a Python program that matches a \n",
    "# string that has an a followed by zero or one 'b'.\n",
    "\n",
    "import re \n",
    "\n",
    "def aFollowedBy1B(string):\n",
    "    regex = re.compile(\"^a(b)$\")\n",
    "    reg = regex.findall(string)\n",
    "    if reg:\n",
    "        return \"Match found\"\n",
    "    else:\n",
    "        return \"No match found\"\n",
    "\n",
    "print(aFollowedBy1B(\"ab\"))\n",
    "print(aFollowedBy1B(\"abc\"))\n",
    "print(aFollowedBy1B(\"acb\"))\n",
    "print(aFollowedBy1B(\"a\"))\n",
    "print(aFollowedBy1B(\"a\"))\n",
    "print(aFollowedBy1B(\"abbb\"))"
   ]
  },
  {
   "cell_type": "code",
   "execution_count": 19,
   "id": "2be6276e",
   "metadata": {},
   "outputs": [
    {
     "name": "stdout",
     "output_type": "stream",
     "text": [
      "No match found\n",
      "No match found\n",
      "No match found\n",
      "No match found\n",
      "No match found\n",
      "Match found\n"
     ]
    }
   ],
   "source": [
    "# 5. Write a Python program that matches \n",
    "# a string that has an a followed by three 'b'. \n",
    "\n",
    "import re \n",
    "\n",
    "def aFollowedBy3Bs(string):\n",
    "    regex = re.compile(\"^a(b{3})$\")\n",
    "    reg = regex.findall(string)\n",
    "    if reg:\n",
    "        return \"Match found\"\n",
    "    else:\n",
    "        return \"No match found\"\n",
    "\n",
    "print(aFollowedBy3Bs(\"ab\"))\n",
    "print(aFollowedBy3Bs(\"abc\"))\n",
    "print(aFollowedBy3Bs(\"acb\"))\n",
    "print(aFollowedBy3Bs(\"a\"))\n",
    "print(aFollowedBy3Bs(\"a\"))\n",
    "print(aFollowedBy3Bs(\"abbb\"))"
   ]
  },
  {
   "cell_type": "code",
   "execution_count": 21,
   "id": "e64940af",
   "metadata": {},
   "outputs": [
    {
     "name": "stdout",
     "output_type": "stream",
     "text": [
      "No match found\n",
      "No match found\n",
      "No match found\n",
      "Match found\n",
      "No match found\n",
      "Match found\n"
     ]
    }
   ],
   "source": [
    "# 6. Write a Python program that matches a \n",
    "# string that has an a followed by two to three 'b'\n",
    "\n",
    "import re \n",
    "\n",
    "def aFollowedBy2To3Bs(string):\n",
    "    regex = re.compile(\"^a(b{2,3})$\")\n",
    "    reg =  regex.findall(string)\n",
    "    if reg:\n",
    "        return \"Match found\"\n",
    "    else:\n",
    "        return \"No match found\"\n",
    "\n",
    "print(aFollowedBy2To3Bs(\"abbbb\"))\n",
    "print(aFollowedBy2To3Bs(\"abc\"))\n",
    "print(aFollowedBy2To3Bs(\"acb\"))\n",
    "print(aFollowedBy2To3Bs(\"abb\"))\n",
    "print(aFollowedBy2To3Bs(\"a\"))\n",
    "print(aFollowedBy2To3Bs(\"abbb\"))"
   ]
  },
  {
   "cell_type": "code",
   "execution_count": 39,
   "id": "94c52dcd",
   "metadata": {},
   "outputs": [
    {
     "name": "stdout",
     "output_type": "stream",
     "text": [
      "No match found\n",
      "No match found\n",
      "Match found\n",
      "No match found\n",
      "No match found\n",
      "No match found\n"
     ]
    }
   ],
   "source": [
    "# 7. Write a Python program to find \n",
    "# sequences of lowercase letters joined with a underscore.\n",
    "\n",
    "import re\n",
    "\n",
    "def lowerCaseJoinedwith_(string):\n",
    "    regex =  re.compile(\"^[a-z]+_[a-z]+$\")\n",
    "    reg = regex.findall(string)\n",
    "    if reg:\n",
    "        return \"Match found\"\n",
    "    else:\n",
    "        return \"No match found\"\n",
    "\n",
    "print(lowerCaseJoinedwith_(\"abBb_\"))\n",
    "print(lowerCaseJoinedwith_(\"abc_\"))\n",
    "print(lowerCaseJoinedwith_(\"abc_acb\"))\n",
    "print(lowerCaseJoinedwith_(\"ab-\"))\n",
    "print(lowerCaseJoinedwith_(\"aB-\"))\n",
    "print(lowerCaseJoinedwith_(\"Bb_\"))"
   ]
  },
  {
   "cell_type": "code",
   "execution_count": 49,
   "id": "6ee2a266",
   "metadata": {},
   "outputs": [
    {
     "name": "stdout",
     "output_type": "stream",
     "text": [
      "Match found\n",
      "Match found\n",
      "Match found\n",
      "No match found\n",
      "Match found\n"
     ]
    }
   ],
   "source": [
    "# 8. Write a Python program to find the sequences \n",
    "# of one upper case letter followed by lower case letters.\n",
    "\n",
    "import re \n",
    "\n",
    "def oneUpperCaseFolwdByLowerCase(string):\n",
    "    regex = re.compile(\"[A-Z]+[a-z]+$\")\n",
    "    reg = regex.findall(string)\n",
    "    if reg:\n",
    "        return \"Match found\"\n",
    "    else:\n",
    "        return \"No match found\"\n",
    "    \n",
    "print(oneUpperCaseFolwdByLowerCase(\"abBBbbb\"))\n",
    "print(oneUpperCaseFolwdByLowerCase(\"BBab\"))\n",
    "print(oneUpperCaseFolwdByLowerCase(\"Bbasa\"))\n",
    "print(oneUpperCaseFolwdByLowerCase(\"a\"))\n",
    "print(oneUpperCaseFolwdByLowerCase(\"Ba\"))"
   ]
  },
  {
   "cell_type": "code",
   "execution_count": 53,
   "id": "d1cf4838",
   "metadata": {},
   "outputs": [
    {
     "name": "stdout",
     "output_type": "stream",
     "text": [
      "Match found\n",
      "Match found\n",
      "No match found\n",
      "No match found\n",
      "Match found\n"
     ]
    }
   ],
   "source": [
    "# 9. Write a Python program that matches a string \n",
    "# that has an 'a' followed by anything, ending in 'b'.\n",
    "\n",
    "import re\n",
    "\n",
    "def aFolwdByAnythingEndWithB(string):\n",
    "    regex = re.compile(\"a.(b)$\")\n",
    "    reg = regex.findall(string)\n",
    "    if reg:\n",
    "        return \"Match found\"\n",
    "    else:\n",
    "        return \"No match found\"\n",
    "    \n",
    "print(aFolwdByAnythingEndWithB(\"adb\"))\n",
    "print(aFolwdByAnythingEndWithB(\"a+b\"))\n",
    "print(aFolwdByAnythingEndWithB(\"A b\"))\n",
    "print(aFolwdByAnythingEndWithB(\"ab\"))\n",
    "print(aFolwdByAnythingEndWithB(\"a$b\"))"
   ]
  },
  {
   "cell_type": "code",
   "execution_count": 73,
   "id": "fc22357d",
   "metadata": {},
   "outputs": [
    {
     "name": "stdout",
     "output_type": "stream",
     "text": [
      "Match found\n",
      "Match found\n",
      "Match found\n",
      "Match found\n",
      "No match found\n"
     ]
    }
   ],
   "source": [
    "# 10. Write a Python program that matches \n",
    "# a word at the beginning of a string.\n",
    "\n",
    "import re \n",
    "\n",
    "def matchWordAtDBegnngOfStr(string):\n",
    "    regex = re.compile(\"^\\w+\")\n",
    "    reg = regex.findall(string)\n",
    "    if reg:\n",
    "        return \"Match found\"\n",
    "    else:\n",
    "        return \"No match found\"\n",
    "    \n",
    "print(matchWordAtDBegnngOfStr(\"adb\"))\n",
    "print(matchWordAtDBegnngOfStr(\"Hello world\"))\n",
    "print(matchWordAtDBegnngOfStr(\"H1ll top\"))\n",
    "print(matchWordAtDBegnngOfStr(\"abuy shop\"))\n",
    "print(matchWordAtDBegnngOfStr(\" a$b\"))"
   ]
  },
  {
   "cell_type": "code",
   "execution_count": 75,
   "id": "302c0f47",
   "metadata": {},
   "outputs": [
    {
     "name": "stdout",
     "output_type": "stream",
     "text": [
      "Match found\n",
      "Match found\n",
      "Match found\n",
      "Match found\n",
      "No match found\n"
     ]
    }
   ],
   "source": [
    "# 11. Write a Python program that matches a \n",
    "# word at the end of string, with optional punctuation.\n",
    "\n",
    "import re \n",
    "\n",
    "def matchWordAtDBEndOfStr(string):\n",
    "    regex = re.compile(\"\\w+.$\")\n",
    "    reg = regex.findall(string)\n",
    "    if reg:\n",
    "        return \"Match found\"\n",
    "    else:\n",
    "        return \"No match found\"\n",
    "    \n",
    "print(matchWordAtDBEndOfStr(\"adb\"))\n",
    "print(matchWordAtDBEndOfStr(\"Hello world\"))\n",
    "print(matchWordAtDBEndOfStr(\"H1ll top\"))\n",
    "print(matchWordAtDBEndOfStr(\"abuy shop.\"))\n",
    "print(matchWordAtDBEndOfStr(\" a$b\"))"
   ]
  },
  {
   "cell_type": "code",
   "execution_count": 82,
   "id": "75af54bb",
   "metadata": {},
   "outputs": [
    {
     "name": "stdout",
     "output_type": "stream",
     "text": [
      "Match found\n",
      "Match found\n",
      "No match found\n",
      "Match found\n",
      "No match found\n"
     ]
    }
   ],
   "source": [
    "# 12. Write a Python program \n",
    "# that matches a word containing 'z'.\n",
    "\n",
    "import re \n",
    "\n",
    "def matchZee(string):\n",
    "    regex = re.compile(\"z\")\n",
    "    reg = regex.findall(string)\n",
    "    if reg:\n",
    "        return \"Match found\"\n",
    "    else:\n",
    "        return \"No match found\"\n",
    "    \n",
    "print(matchZee(\"dbz\"))\n",
    "print(matchZee(\"Hello wozld\"))\n",
    "print(matchZee(\"H1ll top\"))\n",
    "print(matchZee(\"abzy shop.\"))\n",
    "print(matchZee(\" a$b\"))"
   ]
  },
  {
   "cell_type": "code",
   "execution_count": 91,
   "id": "f2c1f137",
   "metadata": {},
   "outputs": [
    {
     "name": "stdout",
     "output_type": "stream",
     "text": [
      "No match found\n",
      "Match found\n",
      "No match found\n",
      "No match found\n",
      "Match found\n"
     ]
    }
   ],
   "source": [
    "# 13. Write a Python program that matches a word \n",
    "# containing 'z', not at the start or end of the word.\n",
    "\n",
    "import re \n",
    "\n",
    "def matchZeeNtStartOEnd(string):\n",
    "    regex = re.compile(\"\\Bz\\B\")\n",
    "    reg = regex.findall(string)\n",
    "    if reg:\n",
    "        return \"Match found\"\n",
    "    else:\n",
    "        return \"No match found\"\n",
    "    \n",
    "print(matchZeeNtStartOEnd(\"dbz\"))\n",
    "print(matchZeeNtStartOEnd(\"Hello wozld\"))\n",
    "print(matchZeeNtStartOEnd(\"H1ll top\"))\n",
    "print(matchZeeNtStartOEnd(\"zaby shop.\"))\n",
    "print(matchZeeNtStartOEnd(\" azb\"))"
   ]
  },
  {
   "cell_type": "code",
   "execution_count": 100,
   "id": "bbef03aa",
   "metadata": {},
   "outputs": [
    {
     "name": "stdout",
     "output_type": "stream",
     "text": [
      "No match found\n",
      "Match found\n",
      "No match found\n",
      "No match found\n",
      "No match found\n"
     ]
    }
   ],
   "source": [
    "# 14. Write a Python program to match a string that contains only \n",
    "# upper and lowercase letters, numbers, and underscores.\n",
    "import re \n",
    "\n",
    "def matchUpaLowaNumsNUndascoz(string):\n",
    "    regex = re.compile(\"[a-zA-Z0-9]_\")\n",
    "    reg = regex.findall(string)\n",
    "    if reg:\n",
    "        return \"Match found\"\n",
    "    else:\n",
    "        return \"No match found\"\n",
    "    \n",
    "print(matchUpaLowaNumsNUndascoz(\"dbz\"))\n",
    "print(matchUpaLowaNumsNUndascoz(\"Hello_wozl90d\"))\n",
    "print(matchUpaLowaNumsNUndascoz(\"H1ll top\"))\n",
    "print(matchUpaLowaNumsNUndascoz(\"zaby-shop.\"))\n",
    "print(matchUpaLowaNumsNUndascoz(\" azb\"))"
   ]
  },
  {
   "cell_type": "code",
   "execution_count": 104,
   "id": "84240ec3",
   "metadata": {},
   "outputs": [
    {
     "name": "stdout",
     "output_type": "stream",
     "text": [
      "No match found\n",
      "Match found\n",
      "No match found\n",
      "No match found\n",
      "No match found\n"
     ]
    }
   ],
   "source": [
    "# 15. Write a Python program where a string \n",
    "# will start with a specific number.\n",
    "\n",
    "import re \n",
    "\n",
    "def strStartWtSpecifcNumber(string):\n",
    "    regex = re.compile(r\"^8\")\n",
    "    reg = regex.findall(string)\n",
    "    if reg:\n",
    "        return \"Match found\"\n",
    "    else:\n",
    "        return \"No match found\"\n",
    "    \n",
    "print(strStartWtSpecifcNumber(\"dbz\"))\n",
    "print(strStartWtSpecifcNumber(\"8Hello_wozl90d\"))\n",
    "print(strStartWtSpecifcNumber(\"6H1ll top\"))\n",
    "print(strStartWtSpecifcNumber(\"zaby-shop.\"))\n",
    "print(strStartWtSpecifcNumber(\" azb\"))"
   ]
  },
  {
   "cell_type": "code",
   "execution_count": 120,
   "id": "3629aa38",
   "metadata": {},
   "outputs": [
    {
     "name": "stdout",
     "output_type": "stream",
     "text": [
      "No match found\n",
      "Match found\n",
      "Match found\n",
      "No match found\n",
      "Match found\n"
     ]
    }
   ],
   "source": [
    "# 16. Write a Python program to remove \n",
    "# leading zeros from an IP address.\n",
    "\n",
    "import re \n",
    "\n",
    "def rmvLeadngZroz(string):\n",
    "    reg = re.sub(\"\\.[0]*\", \".\", string)\n",
    "    if reg != string:\n",
    "        return \"Match found\"\n",
    "    else:\n",
    "        return \"No match found\"\n",
    "    \n",
    "print(rmvLeadngZroz(\"206.28.340.196\"))\n",
    "print(rmvLeadngZroz(\"216.08.904.196\"))\n",
    "print(rmvLeadngZroz(\"216.08.094.196\"))\n",
    "print(rmvLeadngZroz(\"216.88.234.196\"))\n",
    "print(rmvLeadngZroz(\"216.28.000.196\"))"
   ]
  },
  {
   "cell_type": "code",
   "execution_count": 126,
   "id": "51595eaa",
   "metadata": {},
   "outputs": [
    {
     "name": "stdout",
     "output_type": "stream",
     "text": [
      "No match found\n",
      "Match found\n",
      "No match found\n",
      "Match found\n",
      "No match found\n"
     ]
    }
   ],
   "source": [
    "# 17. Write a Python program to check \n",
    "# for a number at the end of a string.\n",
    "\n",
    "import re \n",
    "\n",
    "def numAtDEndOfStr(string):\n",
    "    reg = re.sub(\"\\d$\", \".\", string)\n",
    "    if reg != string:\n",
    "        return \"Match found\"\n",
    "    else:\n",
    "        return \"No match found\"\n",
    "    \n",
    "print(numAtDEndOfStr(\"8Hello_wozl90d\"))\n",
    "print(numAtDEndOfStr(\"8Hello_wozl901\"))\n",
    "print(numAtDEndOfStr(\"ello0934ozl90d\"))\n",
    "print(numAtDEndOfStr(\"Helldswozl900\"))\n",
    "print(numAtDEndOfStr(\"8Hello90d\"))"
   ]
  },
  {
   "cell_type": "code",
   "execution_count": 138,
   "id": "cd174117",
   "metadata": {},
   "outputs": [
    {
     "name": "stdout",
     "output_type": "stream",
     "text": [
      "<re.Match object; span=(4, 7), match='123'>\n",
      "<re.Match object; span=(11, 12), match='3'>\n",
      "<re.Match object; span=(4, 7), match='123'>\n",
      "<re.Match object; span=(0, 3), match='134'>\n"
     ]
    }
   ],
   "source": [
    "# 18. Write a Python program to search the \n",
    "# numbers (0-9) of length between 1 to 3 in a given string.\n",
    "\n",
    "import re \n",
    "\n",
    "def numAtRng1to3InStr(string):\n",
    "    regex = re.compile(\"[0-9]{1,3}\")\n",
    "    reg = regex.search(string)\n",
    "    return reg\n",
    "    \n",
    "print(numAtRng1to3InStr(\"sbbs123\"))\n",
    "print(numAtRng1to3InStr(\"abdffdgrtgv3dd\"))\n",
    "print(numAtRng1to3InStr(\"abcd123efg\"))\n",
    "print(numAtRng1to3InStr(\"13454abcd\"))"
   ]
  },
  {
   "cell_type": "code",
   "execution_count": 146,
   "id": "e46243e7",
   "metadata": {},
   "outputs": [
    {
     "name": "stdout",
     "output_type": "stream",
     "text": [
      "Match found fox\n",
      "Match found dog\n",
      "No match found horse\n"
     ]
    }
   ],
   "source": [
    "# 19. Write a Python program to \n",
    "# search some literals strings in a string.\n",
    "\n",
    "import re \n",
    "\n",
    "patterns = [ 'fox', 'dog', 'horse' ]\n",
    "text = 'The quick brown fox jumps over the lazy dog.'\n",
    "\n",
    "for word in patterns:\n",
    "    reg = re.search(word, text)\n",
    "    if reg:\n",
    "        print(f\"Match found {word}\")\n",
    "    else:\n",
    "        print(f\"No match found {word}\")"
   ]
  },
  {
   "cell_type": "code",
   "execution_count": 150,
   "id": "59fbd51e",
   "metadata": {},
   "outputs": [
    {
     "name": "stdout",
     "output_type": "stream",
     "text": [
      "Match found at position 16 to 19\n",
      "Match found at position 40 to 43\n",
      "No match found horse\n"
     ]
    }
   ],
   "source": [
    "# 20. Write a Python program to \n",
    "# search some literals strings in a string.\n",
    "# and also find the location within the original string where the pattern occurs.\n",
    "\n",
    "import re \n",
    "\n",
    "patterns = [ 'fox', 'dog', 'horse' ]\n",
    "text = 'The quick brown fox jumps over the lazy dog.'\n",
    "\n",
    "for word in patterns:\n",
    "    reg = re.search(word, text)\n",
    "    if reg:\n",
    "        print(f\"Match found at position {reg.start()} to {reg.end()}\")\n",
    "    else:\n",
    "        print(f\"No match found {word}\")"
   ]
  },
  {
   "cell_type": "code",
   "execution_count": 154,
   "id": "5b86a672",
   "metadata": {},
   "outputs": [
    {
     "name": "stdout",
     "output_type": "stream",
     "text": [
      "['exercises']\n",
      "['exercises']\n",
      "['exercises']\n"
     ]
    }
   ],
   "source": [
    "# 21. Write a Python program to find \n",
    "# the substrings within a string.\n",
    "\n",
    "import re \n",
    "\n",
    "def subString(string):\n",
    "    regex = re.compile(\"\\s(\\w+)\")\n",
    "    reg = regex.findall(string)\n",
    "    return reg\n",
    "    \n",
    "print(subString(\"Python exercises\"))\n",
    "print(subString(\"PHP exercises\"))\n",
    "print(subString(\"C# exercises\"))"
   ]
  },
  {
   "cell_type": "code",
   "execution_count": 159,
   "id": "ecf04892",
   "metadata": {},
   "outputs": [
    {
     "name": "stdout",
     "output_type": "stream",
     "text": [
      "Match found at position 7 to 16\n",
      "Match found at position 4 to 13\n",
      "Match found at position 3 to 12\n"
     ]
    }
   ],
   "source": [
    "# 22. Write a Python program to find the occurrence \n",
    "# and position of the substrings within a string.\n",
    "\n",
    "import re \n",
    "\n",
    "def subString(string):\n",
    "    text = \"exercises\"\n",
    "    regex = re.compile(\"exercises\")\n",
    "    reg = regex.search(string)\n",
    "    if reg:\n",
    "        return f\"Match found at position {reg.start()} to {reg.end()}\"\n",
    "    else:\n",
    "        return f\"No match found {word}\"\n",
    "    \n",
    "print(subString(\"Python exercises\"))\n",
    "print(subString(\"PHP exercises\"))\n",
    "print(subString(\"C# exercises\"))"
   ]
  },
  {
   "cell_type": "code",
   "execution_count": null,
   "id": "2c803607",
   "metadata": {},
   "outputs": [],
   "source": []
  }
 ],
 "metadata": {
  "kernelspec": {
   "display_name": "Python 3 (ipykernel)",
   "language": "python",
   "name": "python3"
  },
  "language_info": {
   "codemirror_mode": {
    "name": "ipython",
    "version": 3
   },
   "file_extension": ".py",
   "mimetype": "text/x-python",
   "name": "python",
   "nbconvert_exporter": "python",
   "pygments_lexer": "ipython3",
   "version": "3.9.13"
  }
 },
 "nbformat": 4,
 "nbformat_minor": 5
}
