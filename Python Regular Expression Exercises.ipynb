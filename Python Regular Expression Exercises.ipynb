{
 "cells": [
  {
   "cell_type": "code",
   "execution_count": 41,
   "id": "2cc5aaa9",
   "metadata": {},
   "outputs": [
    {
     "name": "stdout",
     "output_type": "stream",
     "text": [
      "False\n",
      "True\n"
     ]
    }
   ],
   "source": [
    "#1. Write a Python program to check that a string contains only a \n",
    "# certain set of characters (in this case a-z, A-Z and 0-9).\n",
    "import re\n",
    "\n",
    "def stringValidator(string):\n",
    "    regex = re.compile(r\"[^a-zA-Z0-9]\")\n",
    "    allString = regex.search(string)\n",
    "    \n",
    "    return not bool(allString)\n",
    "    \n",
    "print(stringValidator(\"*&%@#!}{\"))\n",
    "print(stringValidator(\"ABCDEFabcdef0123456789\"))\n",
    "    "
   ]
  },
  {
   "cell_type": "code",
   "execution_count": 42,
   "id": "0455ee51",
   "metadata": {},
   "outputs": [
    {
     "name": "stdout",
     "output_type": "stream",
     "text": [
      "Matches found.\n",
      "No matches found.\n",
      "Matches found.\n",
      "No matches found.\n",
      "Matches found.\n"
     ]
    }
   ],
   "source": [
    "# 2. Write a Python program that matches a string \n",
    "# that has an a followed by zero or more b's. \n",
    "import re \n",
    "\n",
    "def aFollowedByB(string):\n",
    "    regex = re.compile(\"^a(b*)$\")\n",
    "    bs = regex.findall(string)\n",
    "    if bs:\n",
    "        return \"Matches found.\"\n",
    "    else:\n",
    "        return \"No matches found.\"\n",
    "    \n",
    "print(aFollowedByB(\"ab\"))\n",
    "print(aFollowedByB(\"abc\"))\n",
    "print(aFollowedByB(\"abb\"))\n",
    "print(aFollowedByB(\"aba\"))\n",
    "print(aFollowedByB(\"a\"))"
   ]
  },
  {
   "cell_type": "code",
   "execution_count": 44,
   "id": "069df3ca",
   "metadata": {},
   "outputs": [
    {
     "name": "stdout",
     "output_type": "stream",
     "text": [
      "Match found\n",
      "No match found\n",
      "No match found\n",
      "No match found\n",
      "No match found\n",
      "Match found\n"
     ]
    }
   ],
   "source": [
    "# 3. Write a Python program that matches a \n",
    "# string that has an a followed by one or more b's.\n",
    "import re \n",
    "\n",
    "def aFollowedByB(string):\n",
    "    regex = re.compile(\"^a(b+)$\")\n",
    "    bs = regex.findall(string)\n",
    "    if bs:\n",
    "        return \"Match found\"\n",
    "    else:\n",
    "        return \"No match found\"\n",
    "    \n",
    "print(aFollowedByB(\"ab\"))\n",
    "print(aFollowedByB(\"abc\"))\n",
    "print(aFollowedByB(\"acb\"))\n",
    "print(aFollowedByB(\"a\"))\n",
    "print(aFollowedByB(\"a\"))\n",
    "print(aFollowedByB(\"abbb\"))"
   ]
  },
  {
   "cell_type": "code",
   "execution_count": 4,
   "id": "0225896b",
   "metadata": {},
   "outputs": [
    {
     "name": "stdout",
     "output_type": "stream",
     "text": [
      "Match found\n",
      "No match found\n",
      "No match found\n",
      "No match found\n",
      "No match found\n",
      "No match found\n"
     ]
    }
   ],
   "source": [
    "# 4. Write a Python program that matches a \n",
    "# string that has an a followed by zero or one 'b'.\n",
    "\n",
    "import re \n",
    "\n",
    "def aFollowedBy1B(string):\n",
    "    regex = re.compile(\"^a(b)$\")\n",
    "    reg = regex.findall(string)\n",
    "    if reg:\n",
    "        return \"Match found\"\n",
    "    else:\n",
    "        return \"No match found\"\n",
    "\n",
    "print(aFollowedBy1B(\"ab\"))\n",
    "print(aFollowedBy1B(\"abc\"))\n",
    "print(aFollowedBy1B(\"acb\"))\n",
    "print(aFollowedBy1B(\"a\"))\n",
    "print(aFollowedBy1B(\"a\"))\n",
    "print(aFollowedBy1B(\"abbb\"))"
   ]
  },
  {
   "cell_type": "code",
   "execution_count": 19,
   "id": "2d75e00a",
   "metadata": {},
   "outputs": [
    {
     "name": "stdout",
     "output_type": "stream",
     "text": [
      "No match found\n",
      "No match found\n",
      "No match found\n",
      "No match found\n",
      "No match found\n",
      "Match found\n"
     ]
    }
   ],
   "source": [
    "# 5. Write a Python program that matches \n",
    "# a string that has an a followed by three 'b'. \n",
    "\n",
    "import re \n",
    "\n",
    "def aFollowedBy3Bs(string):\n",
    "    regex = re.compile(\"^a(b{3})$\")\n",
    "    reg = regex.findall(string)\n",
    "    if reg:\n",
    "        return \"Match found\"\n",
    "    else:\n",
    "        return \"No match found\"\n",
    "\n",
    "print(aFollowedBy3Bs(\"ab\"))\n",
    "print(aFollowedBy3Bs(\"abc\"))\n",
    "print(aFollowedBy3Bs(\"acb\"))\n",
    "print(aFollowedBy3Bs(\"a\"))\n",
    "print(aFollowedBy3Bs(\"a\"))\n",
    "print(aFollowedBy3Bs(\"abbb\"))"
   ]
  },
  {
   "cell_type": "code",
   "execution_count": 21,
   "id": "a42debf9",
   "metadata": {},
   "outputs": [
    {
     "name": "stdout",
     "output_type": "stream",
     "text": [
      "No match found\n",
      "No match found\n",
      "No match found\n",
      "Match found\n",
      "No match found\n",
      "Match found\n"
     ]
    }
   ],
   "source": [
    "# 6. Write a Python program that matches a \n",
    "# string that has an a followed by two to three 'b'\n",
    "\n",
    "import re \n",
    "\n",
    "def aFollowedBy2To3Bs(string):\n",
    "    regex = re.compile(\"^a(b{2,3})$\")\n",
    "    reg =  regex.findall(string)\n",
    "    if reg:\n",
    "        return \"Match found\"\n",
    "    else:\n",
    "        return \"No match found\"\n",
    "\n",
    "print(aFollowedBy2To3Bs(\"abbbb\"))\n",
    "print(aFollowedBy2To3Bs(\"abc\"))\n",
    "print(aFollowedBy2To3Bs(\"acb\"))\n",
    "print(aFollowedBy2To3Bs(\"abb\"))\n",
    "print(aFollowedBy2To3Bs(\"a\"))\n",
    "print(aFollowedBy2To3Bs(\"abbb\"))"
   ]
  },
  {
   "cell_type": "code",
   "execution_count": 39,
   "id": "e025cb22",
   "metadata": {},
   "outputs": [
    {
     "name": "stdout",
     "output_type": "stream",
     "text": [
      "No match found\n",
      "No match found\n",
      "Match found\n",
      "No match found\n",
      "No match found\n",
      "No match found\n"
     ]
    }
   ],
   "source": [
    "# 7. Write a Python program to find \n",
    "# sequences of lowercase letters joined with a underscore.\n",
    "\n",
    "import re\n",
    "\n",
    "def lowerCaseJoinedwith_(string):\n",
    "    regex =  re.compile(\"^[a-z]+_[a-z]+$\")\n",
    "    reg = regex.findall(string)\n",
    "    if reg:\n",
    "        return \"Match found\"\n",
    "    else:\n",
    "        return \"No match found\"\n",
    "\n",
    "print(lowerCaseJoinedwith_(\"abBb_\"))\n",
    "print(lowerCaseJoinedwith_(\"abc_\"))\n",
    "print(lowerCaseJoinedwith_(\"abc_acb\"))\n",
    "print(lowerCaseJoinedwith_(\"ab-\"))\n",
    "print(lowerCaseJoinedwith_(\"aB-\"))\n",
    "print(lowerCaseJoinedwith_(\"Bb_\"))"
   ]
  },
  {
   "cell_type": "code",
   "execution_count": 49,
   "id": "ddad50cb",
   "metadata": {},
   "outputs": [
    {
     "name": "stdout",
     "output_type": "stream",
     "text": [
      "Match found\n",
      "Match found\n",
      "Match found\n",
      "No match found\n",
      "Match found\n"
     ]
    }
   ],
   "source": [
    "# 8. Write a Python program to find the sequences \n",
    "# of one upper case letter followed by lower case letters.\n",
    "\n",
    "import re \n",
    "\n",
    "def oneUpperCaseFolwdByLowerCase(string):\n",
    "    regex = re.compile(\"[A-Z]+[a-z]+$\")\n",
    "    reg = regex.findall(string)\n",
    "    if reg:\n",
    "        return \"Match found\"\n",
    "    else:\n",
    "        return \"No match found\"\n",
    "    \n",
    "print(oneUpperCaseFolwdByLowerCase(\"abBBbbb\"))\n",
    "print(oneUpperCaseFolwdByLowerCase(\"BBab\"))\n",
    "print(oneUpperCaseFolwdByLowerCase(\"Bbasa\"))\n",
    "print(oneUpperCaseFolwdByLowerCase(\"a\"))\n",
    "print(oneUpperCaseFolwdByLowerCase(\"Ba\"))"
   ]
  },
  {
   "cell_type": "code",
   "execution_count": 53,
   "id": "d120917f",
   "metadata": {},
   "outputs": [
    {
     "name": "stdout",
     "output_type": "stream",
     "text": [
      "Match found\n",
      "Match found\n",
      "No match found\n",
      "No match found\n",
      "Match found\n"
     ]
    }
   ],
   "source": [
    "# 9. Write a Python program that matches a string \n",
    "# that has an 'a' followed by anything, ending in 'b'.\n",
    "\n",
    "import re\n",
    "\n",
    "def aFolwdByAnythingEndWithB(string):\n",
    "    regex = re.compile(\"a.(b)$\")\n",
    "    reg = regex.findall(string)\n",
    "    if reg:\n",
    "        return \"Match found\"\n",
    "    else:\n",
    "        return \"No match found\"\n",
    "    \n",
    "print(aFolwdByAnythingEndWithB(\"adb\"))\n",
    "print(aFolwdByAnythingEndWithB(\"a+b\"))\n",
    "print(aFolwdByAnythingEndWithB(\"A b\"))\n",
    "print(aFolwdByAnythingEndWithB(\"ab\"))\n",
    "print(aFolwdByAnythingEndWithB(\"a$b\"))"
   ]
  },
  {
   "cell_type": "code",
   "execution_count": 73,
   "id": "2dfcff17",
   "metadata": {},
   "outputs": [
    {
     "name": "stdout",
     "output_type": "stream",
     "text": [
      "Match found\n",
      "Match found\n",
      "Match found\n",
      "Match found\n",
      "No match found\n"
     ]
    }
   ],
   "source": [
    "# 10. Write a Python program that matches \n",
    "# a word at the beginning of a string.\n",
    "\n",
    "import re \n",
    "\n",
    "def matchWordAtDBegnngOfStr(string):\n",
    "    regex = re.compile(\"^\\w+\")\n",
    "    reg = regex.findall(string)\n",
    "    if reg:\n",
    "        return \"Match found\"\n",
    "    else:\n",
    "        return \"No match found\"\n",
    "    \n",
    "print(matchWordAtDBegnngOfStr(\"adb\"))\n",
    "print(matchWordAtDBegnngOfStr(\"Hello world\"))\n",
    "print(matchWordAtDBegnngOfStr(\"H1ll top\"))\n",
    "print(matchWordAtDBegnngOfStr(\"abuy shop\"))\n",
    "print(matchWordAtDBegnngOfStr(\" a$b\"))"
   ]
  },
  {
   "cell_type": "code",
   "execution_count": 75,
   "id": "57262af4",
   "metadata": {},
   "outputs": [
    {
     "name": "stdout",
     "output_type": "stream",
     "text": [
      "Match found\n",
      "Match found\n",
      "Match found\n",
      "Match found\n",
      "No match found\n"
     ]
    }
   ],
   "source": [
    "# 11. Write a Python program that matches a \n",
    "# word at the end of string, with optional punctuation.\n",
    "\n",
    "import re \n",
    "\n",
    "def matchWordAtDBEndOfStr(string):\n",
    "    regex = re.compile(\"\\w+.$\")\n",
    "    reg = regex.findall(string)\n",
    "    if reg:\n",
    "        return \"Match found\"\n",
    "    else:\n",
    "        return \"No match found\"\n",
    "    \n",
    "print(matchWordAtDBEndOfStr(\"adb\"))\n",
    "print(matchWordAtDBEndOfStr(\"Hello world\"))\n",
    "print(matchWordAtDBEndOfStr(\"H1ll top\"))\n",
    "print(matchWordAtDBEndOfStr(\"abuy shop.\"))\n",
    "print(matchWordAtDBEndOfStr(\" a$b\"))"
   ]
  },
  {
   "cell_type": "code",
   "execution_count": 82,
   "id": "3ed1bfaa",
   "metadata": {},
   "outputs": [
    {
     "name": "stdout",
     "output_type": "stream",
     "text": [
      "Match found\n",
      "Match found\n",
      "No match found\n",
      "Match found\n",
      "No match found\n"
     ]
    }
   ],
   "source": [
    "# 12. Write a Python program \n",
    "# that matches a word containing 'z'.\n",
    "\n",
    "import re \n",
    "\n",
    "def matchZee(string):\n",
    "    regex = re.compile(\"z\")\n",
    "    reg = regex.findall(string)\n",
    "    if reg:\n",
    "        return \"Match found\"\n",
    "    else:\n",
    "        return \"No match found\"\n",
    "    \n",
    "print(matchZee(\"dbz\"))\n",
    "print(matchZee(\"Hello wozld\"))\n",
    "print(matchZee(\"H1ll top\"))\n",
    "print(matchZee(\"abzy shop.\"))\n",
    "print(matchZee(\" a$b\"))"
   ]
  },
  {
   "cell_type": "code",
   "execution_count": 91,
   "id": "a70a4b7f",
   "metadata": {},
   "outputs": [
    {
     "name": "stdout",
     "output_type": "stream",
     "text": [
      "No match found\n",
      "Match found\n",
      "No match found\n",
      "No match found\n",
      "Match found\n"
     ]
    }
   ],
   "source": [
    "# 13. Write a Python program that matches a word \n",
    "# containing 'z', not at the start or end of the word.\n",
    "\n",
    "import re \n",
    "\n",
    "def matchZeeNtStartOEnd(string):\n",
    "    regex = re.compile(\"\\Bz\\B\")\n",
    "    reg = regex.findall(string)\n",
    "    if reg:\n",
    "        return \"Match found\"\n",
    "    else:\n",
    "        return \"No match found\"\n",
    "    \n",
    "print(matchZeeNtStartOEnd(\"dbz\"))\n",
    "print(matchZeeNtStartOEnd(\"Hello wozld\"))\n",
    "print(matchZeeNtStartOEnd(\"H1ll top\"))\n",
    "print(matchZeeNtStartOEnd(\"zaby shop.\"))\n",
    "print(matchZeeNtStartOEnd(\" azb\"))"
   ]
  },
  {
   "cell_type": "code",
   "execution_count": 98,
   "id": "d25242bb",
   "metadata": {},
   "outputs": [
    {
     "name": "stdout",
     "output_type": "stream",
     "text": [
      "Match found\n",
      "Match found\n",
      "Match found\n",
      "Match found\n",
      "Match found\n"
     ]
    }
   ],
   "source": [
    "# 14. Write a Python program to match a string that contains only \n",
    "# upper and lowercase letters, numbers, and underscores.\n",
    "import re \n",
    "\n",
    "def matchUpaLowaNumsNUndascoz(string):\n",
    "    regex = re.compile(\"[a-zA-Z0-9]-\")\n",
    "    reg = regex.findall(string)\n",
    "    if reg:\n",
    "        return \"Match found\"\n",
    "    else:\n",
    "        return \"No match found\"\n",
    "    \n",
    "print(matchUpaLowaNumsNUndascoz(\"dbz\"))\n",
    "print(matchUpaLowaNumsNUndascoz(\"Hello_wozl90d\"))\n",
    "print(matchUpaLowaNumsNUndascoz(\"H1ll top\"))\n",
    "print(matchUpaLowaNumsNUndascoz(\"zaby shop.\"))\n",
    "print(matchUpaLowaNumsNUndascoz(\" azb\"))"
   ]
  },
  {
   "cell_type": "code",
   "execution_count": null,
   "id": "6ea70020",
   "metadata": {},
   "outputs": [],
   "source": []
  }
 ],
 "metadata": {
  "kernelspec": {
   "display_name": "Python 3 (ipykernel)",
   "language": "python",
   "name": "python3"
  },
  "language_info": {
   "codemirror_mode": {
    "name": "ipython",
    "version": 3
   },
   "file_extension": ".py",
   "mimetype": "text/x-python",
   "name": "python",
   "nbconvert_exporter": "python",
   "pygments_lexer": "ipython3",
   "version": "3.9.13"
  }
 },
 "nbformat": 4,
 "nbformat_minor": 5
}
