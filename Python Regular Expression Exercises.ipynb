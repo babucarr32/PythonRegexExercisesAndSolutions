{
 "cells": [
  {
   "cell_type": "code",
   "execution_count": 41,
   "id": "2cc5aaa9",
   "metadata": {},
   "outputs": [
    {
     "name": "stdout",
     "output_type": "stream",
     "text": [
      "False\n",
      "True\n"
     ]
    }
   ],
   "source": [
    "#1. Write a Python program to check that a string contains only a \n",
    "# certain set of characters (in this case a-z, A-Z and 0-9).\n",
    "import re\n",
    "\n",
    "def stringValidator(string):\n",
    "    regex = re.compile(r\"[^a-zA-Z0-9]\")\n",
    "    allString = regex.search(string)\n",
    "    \n",
    "    return not bool(allString)\n",
    "    \n",
    "print(stringValidator(\"*&%@#!}{\"))\n",
    "print(stringValidator(\"ABCDEFabcdef0123456789\"))\n",
    "    "
   ]
  },
  {
   "cell_type": "code",
   "execution_count": 42,
   "id": "0455ee51",
   "metadata": {},
   "outputs": [
    {
     "name": "stdout",
     "output_type": "stream",
     "text": [
      "Matches found.\n",
      "No matches found.\n",
      "Matches found.\n",
      "No matches found.\n",
      "Matches found.\n"
     ]
    }
   ],
   "source": [
    "# 2. Write a Python program that matches a string \n",
    "# that has an a followed by zero or more b's. \n",
    "import re \n",
    "\n",
    "def aFollowedByB(string):\n",
    "    regex = re.compile(\"^a(b*)$\")\n",
    "    bs = regex.findall(string)\n",
    "    if bs:\n",
    "        return \"Matches found.\"\n",
    "    else:\n",
    "        return \"No matches found.\"\n",
    "    \n",
    "print(aFollowedByB(\"ab\"))\n",
    "print(aFollowedByB(\"abc\"))\n",
    "print(aFollowedByB(\"abb\"))\n",
    "print(aFollowedByB(\"aba\"))\n",
    "print(aFollowedByB(\"a\"))"
   ]
  },
  {
   "cell_type": "code",
   "execution_count": 44,
   "id": "069df3ca",
   "metadata": {},
   "outputs": [
    {
     "name": "stdout",
     "output_type": "stream",
     "text": [
      "Match found\n",
      "No match found\n",
      "No match found\n",
      "No match found\n",
      "No match found\n",
      "Match found\n"
     ]
    }
   ],
   "source": [
    "# 3. Write a Python program that matches a \n",
    "# string that has an a followed by one or more b's.\n",
    "import re \n",
    "\n",
    "def aFollowedByB(string):\n",
    "    regex = re.compile(\"^a(b+)$\")\n",
    "    bs = regex.findall(string)\n",
    "    if bs:\n",
    "        return \"Match found\"\n",
    "    else:\n",
    "        return \"No match found\"\n",
    "    \n",
    "print(aFollowedByB(\"ab\"))\n",
    "print(aFollowedByB(\"abc\"))\n",
    "print(aFollowedByB(\"acb\"))\n",
    "print(aFollowedByB(\"a\"))\n",
    "print(aFollowedByB(\"a\"))\n",
    "print(aFollowedByB(\"abbb\"))"
   ]
  },
  {
   "cell_type": "code",
   "execution_count": null,
   "id": "0225896b",
   "metadata": {},
   "outputs": [],
   "source": []
  }
 ],
 "metadata": {
  "kernelspec": {
   "display_name": "Python 3 (ipykernel)",
   "language": "python",
   "name": "python3"
  },
  "language_info": {
   "codemirror_mode": {
    "name": "ipython",
    "version": 3
   },
   "file_extension": ".py",
   "mimetype": "text/x-python",
   "name": "python",
   "nbconvert_exporter": "python",
   "pygments_lexer": "ipython3",
   "version": "3.9.13"
  }
 },
 "nbformat": 4,
 "nbformat_minor": 5
}
