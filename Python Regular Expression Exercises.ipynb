{
 "cells": [
  {
   "cell_type": "code",
   "execution_count": 41,
   "id": "2cc5aaa9",
   "metadata": {},
   "outputs": [
    {
     "name": "stdout",
     "output_type": "stream",
     "text": [
      "False\n",
      "True\n"
     ]
    }
   ],
   "source": [
    "#1. Write a Python program to check that a string contains only a \n",
    "# certain set of characters (in this case a-z, A-Z and 0-9).\n",
    "import re\n",
    "\n",
    "def stringValidator(string):\n",
    "    regex = re.compile(r\"[^a-zA-Z0-9]\")\n",
    "    allString = regex.search(string)\n",
    "    \n",
    "    return not bool(allString)\n",
    "    \n",
    "print(stringValidator(\"*&%@#!}{\"))\n",
    "print(stringValidator(\"ABCDEFabcdef0123456789\"))\n",
    "    "
   ]
  },
  {
   "cell_type": "code",
   "execution_count": 42,
   "id": "0455ee51",
   "metadata": {},
   "outputs": [
    {
     "name": "stdout",
     "output_type": "stream",
     "text": [
      "Matches found.\n",
      "No matches found.\n",
      "Matches found.\n",
      "No matches found.\n",
      "Matches found.\n"
     ]
    }
   ],
   "source": [
    "# 2. Write a Python program that matches a string \n",
    "# that has an a followed by zero or more b's. \n",
    "import re \n",
    "\n",
    "def aFollowedByB(string):\n",
    "    regex = re.compile(\"^a(b*)$\")\n",
    "    bs = regex.findall(string)\n",
    "    if bs:\n",
    "        return \"Matches found.\"\n",
    "    else:\n",
    "        return \"No matches found.\"\n",
    "    \n",
    "print(aFollowedByB(\"ab\"))\n",
    "print(aFollowedByB(\"abc\"))\n",
    "print(aFollowedByB(\"abb\"))\n",
    "print(aFollowedByB(\"aba\"))\n",
    "print(aFollowedByB(\"a\"))"
   ]
  },
  {
   "cell_type": "code",
   "execution_count": 44,
   "id": "069df3ca",
   "metadata": {},
   "outputs": [
    {
     "name": "stdout",
     "output_type": "stream",
     "text": [
      "Match found\n",
      "No match found\n",
      "No match found\n",
      "No match found\n",
      "No match found\n",
      "Match found\n"
     ]
    }
   ],
   "source": [
    "# 3. Write a Python program that matches a \n",
    "# string that has an a followed by one or more b's.\n",
    "import re \n",
    "\n",
    "def aFollowedByB(string):\n",
    "    regex = re.compile(\"^a(b+)$\")\n",
    "    bs = regex.findall(string)\n",
    "    if bs:\n",
    "        return \"Match found\"\n",
    "    else:\n",
    "        return \"No match found\"\n",
    "    \n",
    "print(aFollowedByB(\"ab\"))\n",
    "print(aFollowedByB(\"abc\"))\n",
    "print(aFollowedByB(\"acb\"))\n",
    "print(aFollowedByB(\"a\"))\n",
    "print(aFollowedByB(\"a\"))\n",
    "print(aFollowedByB(\"abbb\"))"
   ]
  },
  {
   "cell_type": "code",
   "execution_count": 4,
   "id": "0225896b",
   "metadata": {},
   "outputs": [
    {
     "name": "stdout",
     "output_type": "stream",
     "text": [
      "Match found\n",
      "No match found\n",
      "No match found\n",
      "No match found\n",
      "No match found\n",
      "No match found\n"
     ]
    }
   ],
   "source": [
    "# 4. Write a Python program that matches a \n",
    "# string that has an a followed by zero or one 'b'.\n",
    "\n",
    "import re \n",
    "\n",
    "def aFollowedBy1B(string):\n",
    "    regex = re.compile(\"^a(b)$\")\n",
    "    reg = regex.findall(string)\n",
    "    if reg:\n",
    "        return \"Match found\"\n",
    "    else:\n",
    "        return \"No match found\"\n",
    "\n",
    "print(aFollowedBy1B(\"ab\"))\n",
    "print(aFollowedBy1B(\"abc\"))\n",
    "print(aFollowedBy1B(\"acb\"))\n",
    "print(aFollowedBy1B(\"a\"))\n",
    "print(aFollowedBy1B(\"a\"))\n",
    "print(aFollowedBy1B(\"abbb\"))"
   ]
  },
  {
   "cell_type": "code",
   "execution_count": 19,
   "id": "258a8f84",
   "metadata": {},
   "outputs": [
    {
     "name": "stdout",
     "output_type": "stream",
     "text": [
      "No match found\n",
      "No match found\n",
      "No match found\n",
      "No match found\n",
      "No match found\n",
      "Match found\n"
     ]
    }
   ],
   "source": [
    "# 5. Write a Python program that matches \n",
    "# a string that has an a followed by three 'b'. \n",
    "\n",
    "import re \n",
    "\n",
    "def aFollowedBy3Bs(string):\n",
    "    regex = re.compile(\"^a(b{3})$\")\n",
    "    reg = regex.findall(string)\n",
    "    if reg:\n",
    "        return \"Match found\"\n",
    "    else:\n",
    "        return \"No match found\"\n",
    "\n",
    "print(aFollowedBy3Bs(\"ab\"))\n",
    "print(aFollowedBy3Bs(\"abc\"))\n",
    "print(aFollowedBy3Bs(\"acb\"))\n",
    "print(aFollowedBy3Bs(\"a\"))\n",
    "print(aFollowedBy3Bs(\"a\"))\n",
    "print(aFollowedBy3Bs(\"abbb\"))"
   ]
  },
  {
   "cell_type": "code",
   "execution_count": 21,
   "id": "3625dbef",
   "metadata": {},
   "outputs": [
    {
     "name": "stdout",
     "output_type": "stream",
     "text": [
      "No match found\n",
      "No match found\n",
      "No match found\n",
      "Match found\n",
      "No match found\n",
      "Match found\n"
     ]
    }
   ],
   "source": [
    "# 6. Write a Python program that matches a \n",
    "# string that has an a followed by two to three 'b'\n",
    "\n",
    "import re \n",
    "\n",
    "def aFollowedBy2To3Bs(string):\n",
    "    regex = re.compile(\"^a(b{2,3})$\")\n",
    "    reg =  regex.findall(string)\n",
    "    if reg:\n",
    "        return \"Match found\"\n",
    "    else:\n",
    "        return \"No match found\"\n",
    "\n",
    "print(aFollowedBy2To3Bs(\"abbbb\"))\n",
    "print(aFollowedBy2To3Bs(\"abc\"))\n",
    "print(aFollowedBy2To3Bs(\"acb\"))\n",
    "print(aFollowedBy2To3Bs(\"abb\"))\n",
    "print(aFollowedBy2To3Bs(\"a\"))\n",
    "print(aFollowedBy2To3Bs(\"abbb\"))"
   ]
  },
  {
   "cell_type": "code",
   "execution_count": null,
   "id": "2483236a",
   "metadata": {},
   "outputs": [],
   "source": []
  }
 ],
 "metadata": {
  "kernelspec": {
   "display_name": "Python 3 (ipykernel)",
   "language": "python",
   "name": "python3"
  },
  "language_info": {
   "codemirror_mode": {
    "name": "ipython",
    "version": 3
   },
   "file_extension": ".py",
   "mimetype": "text/x-python",
   "name": "python",
   "nbconvert_exporter": "python",
   "pygments_lexer": "ipython3",
   "version": "3.9.13"
  }
 },
 "nbformat": 4,
 "nbformat_minor": 5
}
